{
 "cells": [
  {
   "cell_type": "code",
   "execution_count": 1,
   "id": "dd5a0889",
   "metadata": {},
   "outputs": [],
   "source": [
    "import os\n",
    "import csv"
   ]
  },
  {
   "cell_type": "code",
   "execution_count": 2,
   "id": "fa91b828",
   "metadata": {},
   "outputs": [
    {
     "name": "stdout",
     "output_type": "stream",
     "text": [
      "Financial Analysis\n",
      "------------------\n",
      "Total Months: 86\n"
     ]
    }
   ],
   "source": [
    "# Access the CSV file\n",
    "\n",
    "with open(os.path.join(os.getcwd(), \"budget_data.csv\")) as budgetDataCSV:\n",
    "    financial_data = csv.reader(budgetDataCSV, delimiter=\",\")\n",
    "\n",
    "    # Print the total number of months included in the dataset \n",
    "\n",
    "    print(\"Financial Analysis\")\n",
    "    print(\"------------------\")\n",
    "\n",
    "    numberMonths = -1\n",
    "    for dates, profit in financial_data:\n",
    "        numberMonths += 1\n",
    "    print(\"Total Months:\", numberMonths)\n"
   ]
  },
  {
   "cell_type": "code",
   "execution_count": 3,
   "id": "392d6d04",
   "metadata": {},
   "outputs": [
    {
     "name": "stdout",
     "output_type": "stream",
     "text": [
      "Total: 22564198\n"
     ]
    }
   ],
   "source": [
    "# Print the net total amount of \"Profit/Losses\" over the entire period \n",
    "\n",
    "with open(\"budget_data.csv\") as budgetDataCSV:\n",
    "    financial_data = csv.reader(budgetDataCSV, delimiter=\",\")\n",
    "    header = next(financial_data)\n",
    "    netProfit = 0\n",
    "    for dates, profit in financial_data:\n",
    "        netProfit += int(profit)\n",
    "    print(\"Total:\", netProfit)\n"
   ]
  },
  {
   "cell_type": "code",
   "execution_count": 4,
   "id": "d31f05d5",
   "metadata": {},
   "outputs": [
    {
     "name": "stdout",
     "output_type": "stream",
     "text": [
      "Average Change: -8311.105882352942\n"
     ]
    }
   ],
   "source": [
    "# Print the changes in \"Profit/Losses\" over the entire period, and then the average of those changes\n",
    "\n",
    "with open(\"budget_data.csv\") as budgetDataCSV:\n",
    "    financial_data = csv.reader(budgetDataCSV, delimiter=\",\")\n",
    "    header = next(financial_data)\n",
    "\n",
    "    previousMonthProfit = None\n",
    "\n",
    "    profitChange = []\n",
    "    \n",
    "    for dates, profit in financial_data:\n",
    "\n",
    "        if previousMonthProfit is not None:\n",
    "            profitChange.append(int(profit) - previousMonthProfit)\n",
    "\n",
    "        previousMonthProfit = int(profit)\n",
    "\n",
    "    print(\"Average Change:\", (sum(profitChange) / len(profitChange)))"
   ]
  },
  {
   "cell_type": "code",
   "execution_count": 5,
   "id": "65e3e1e5",
   "metadata": {},
   "outputs": [
    {
     "name": "stdout",
     "output_type": "stream",
     "text": [
      "Greatest Increase in Profits: 16-Aug 1862002\n"
     ]
    }
   ],
   "source": [
    "# Print the greatest increase in profits (date and amount) over the entire period\n",
    "\n",
    "with open(\"budget_data.csv\") as budgetDataCSV:\n",
    "    financial_data = csv.reader(budgetDataCSV, delimiter=\",\")\n",
    "    header = next(financial_data)\n",
    "\n",
    "    jim = max(profitChange)\n",
    "    index = profitChange.index(jim)\n",
    "    rowNumber = -1\n",
    "    \n",
    "    for dates, profit in financial_data:\n",
    "        if rowNumber == index:\n",
    "            print(\"Greatest Increase in Profits:\", dates, jim)\n",
    "        rowNumber += 1"
   ]
  },
  {
   "cell_type": "code",
   "execution_count": 6,
   "id": "541308de",
   "metadata": {},
   "outputs": [
    {
     "name": "stdout",
     "output_type": "stream",
     "text": [
      "Greatest Decrease in Profits: 14-Feb -1825558\n"
     ]
    }
   ],
   "source": [
    "# Print the greatest decrease in profits (date and amount) over the entire period\n",
    "\n",
    "with open(\"budget_data.csv\") as budgetDataCSV:\n",
    "    financial_data = csv.reader(budgetDataCSV, delimiter=\",\")\n",
    "    header = next(financial_data)\n",
    "\n",
    "    min_profit_change = min(profitChange)\n",
    "    index = profitChange.index(min_profit_change)\n",
    "    rowNumber = -1\n",
    "    \n",
    "    for dates, profit in financial_data:\n",
    "        if rowNumber == index:\n",
    "            print(\"Greatest Decrease in Profits:\", dates, min_profit_change)\n",
    "        rowNumber += 1\n"
   ]
  },
  {
   "cell_type": "code",
   "execution_count": null,
   "id": "e55314be",
   "metadata": {},
   "outputs": [],
   "source": []
  }
 ],
 "metadata": {
  "kernelspec": {
   "display_name": "Python 3 (ipykernel)",
   "language": "python",
   "name": "python3"
  },
  "language_info": {
   "codemirror_mode": {
    "name": "ipython",
    "version": 3
   },
   "file_extension": ".py",
   "mimetype": "text/x-python",
   "name": "python",
   "nbconvert_exporter": "python",
   "pygments_lexer": "ipython3",
   "version": "3.9.13"
  }
 },
 "nbformat": 4,
 "nbformat_minor": 5
}
